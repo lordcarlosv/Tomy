{
  "cells": [
    {
      "metadata": {
        "trusted": true
      },
      "cell_type": "code",
      "source": "%matplotlib inline\nimport pandas as pd\nimport numpy as np\nimport matplotlib.pyplot as plt\nimport seaborn as sns\nfrom sklearn.ensemble  import RandomForestClassifier \nfrom sklearn.preprocessing import Imputer\nfrom sklearn.model_selection import cross_val_score, train_test_split\nfrom sklearn.utils.class_weight import compute_sample_weight\nfrom sklearn import metrics\nfrom sklearn.metrics import classification_report\nfrom sklearn.feature_selection import SelectFromModel",
      "execution_count": 1,
      "outputs": []
    },
    {
      "metadata": {
        "trusted": true
      },
      "cell_type": "code",
      "source": "data = pd.read_excel('Sumita 300 FINAL PARA CALUCHIN2.xlsx', header=None)",
      "execution_count": 2,
      "outputs": []
    },
    {
      "metadata": {
        "trusted": true
      },
      "cell_type": "code",
      "source": "tabla=data.T\ntabla=tabla.drop(columns=[0])\ntabla[1]=tabla[1].str.strip().fillna(method='ffill')\ntabla[2]=tabla[2].str.strip().fillna(method='ffill')\ntabla[3]=tabla[3].str.strip().fillna(method='ffill')\ntabla['temp'] = tabla[tabla.columns[0:3]].apply(\n    lambda x: ';'.join(x.dropna().astype(str)),\n    axis=1\n)\ntabla=tabla.drop(columns=[1,2,3])\ntabla.insert(0, 'Fusion', tabla['temp'])\ntabla=tabla.drop(columns=['temp'])\ntabla=tabla.set_index('Fusion')\ntabla=tabla.rename_axis('', axis=0) #supresion del titulo 'Fusion'\ntabla=tabla.T\nlabel = tabla[['DNI', 'Moroso']].copy()\ntabla.drop(columns=['Alumno','Carrera','CicoActual','Estado_Alumno', 'Moroso']).melt(id_vars='DNI', var_name='atributo', value_name='Valor').head(5)\nall_data=tabla.drop(columns=['Alumno','Carrera','CicoActual','Estado_Alumno', 'Moroso'])\nall_data=all_data.melt(id_vars='DNI', var_name='atributo', value_name='Valor')\nall_data[['Ciclo','Mes','Categoria']]=all_data[\"atributo\"].str.split(\";\", expand = True) \nall_data=all_data.drop(columns=['atributo'])\nall_data=all_data.sort_values(by=['DNI'])\nall_data=all_data[['DNI','Ciclo','Mes','Categoria','Valor']]\nall_data=pd.pivot_table(all_data, values = 'Valor', index=['DNI','Ciclo','Mes'], columns = 'Categoria', aggfunc='first').reset_index()\nall_data.columns.name='' #supresion del titulo 'categoria'\nall_data['Duracion Modulo(meses)']=all_data['Duracion Modulo(meses)'].fillna(method='bfill')\nall_data['Periodo Academico']=all_data['Periodo Academico'].fillna(method='bfill')\n#Supresion de la columna Duracion Modulo(meses) ya que esta mala y tambien de nroDocumento ya que su valor no tiene sentido\nall_data=all_data.drop(columns=['Duracion Modulo(meses)', 'NroDocumento'])\n#Suppresion de las filas con valores faltantes para FechaPago\nall_data=all_data.drop(index=all_data[all_data['FechaPago'].isnull()].index)\ndata_grupo=all_data.groupby('DNI').agg({'Ciclo': ['nunique'], 'Mes': ['count'],  \n                             'FechaMora': ['count'], 'FechaPago': ['count'], 'Periodo Academico': ['nunique']})\ndata_grupo.columns=data_grupo.columns.droplevel(1)\ndata_grupo=data_grupo.reset_index()\n\nlabel['DNI']=label['DNI'].astype(np.int64)\nlabel['Moroso']=label['Moroso'].astype(np.bool_)\nall_data = data_grupo.merge(label, left_on='DNI', right_on='DNI', how='inner').copy()\n\ntarget_number=all_data['Moroso']\nall_data=all_data.drop(columns=['DNI'])\nall_data=all_data.drop(columns=['Moroso'])",
      "execution_count": 3,
      "outputs": []
    },
    {
      "metadata": {
        "trusted": true
      },
      "cell_type": "code",
      "source": "def run_classifier(_depth):\n    X_train, X_test, y_train, y_test = train_test_split(all_data.values, target_number, test_size=0.20, random_state=0, stratify=target_number)\n    w=compute_sample_weight(class_weight='balanced', y=y_train) \n    imputer = Imputer(strategy='mean', missing_values=-1) \n\n    #fill of NaN\n    imputer.fit(X_train)\n    X_train_imputed = imputer.transform(X_train)\n    X_test_imputed = imputer.transform(X_test)\n\n    classifier = RandomForestClassifier(n_estimators=1,max_depth=_depth, class_weight=\"balanced_subsample\", random_state=0)\n    classifier.fit(X_train_imputed, y_train, sample_weight=w)\n    y_train_predicted = classifier.predict(X_train_imputed)\n    y_test_predicted = classifier.predict(X_test_imputed)\n\n \n    print('TRAIN')\n    print('f1_score:      ',metrics.f1_score(y_train, y_train_predicted, average='weighted'), '\\nroc_auc_score: ', metrics.roc_auc_score(y_train, y_train_predicted, average='weighted'), '\\n')\n    print(classification_report(y_train, y_train_predicted))\n    print('TEST')\n    print('f1_score:      ',metrics.f1_score(y_test, y_test_predicted, average='weighted'), '\\nroc_auc_score: ', metrics.roc_auc_score(y_test, y_test_predicted, average='weighted'), '\\n')\n    print(classification_report(y_test, y_test_predicted))\n    ",
      "execution_count": 6,
      "outputs": []
    },
    {
      "metadata": {
        "trusted": true
      },
      "cell_type": "code",
      "source": "%%time\nrun_classifier(1)",
      "execution_count": 7,
      "outputs": [
        {
          "output_type": "stream",
          "text": "/home/nbuser/anaconda3_501/lib/python3.6/site-packages/sklearn/utils/deprecation.py:58: DeprecationWarning: Class Imputer is deprecated; Imputer was deprecated in version 0.20 and will be removed in 0.22. Import impute.SimpleImputer from sklearn instead.\n  warnings.warn(msg, category=DeprecationWarning)\n",
          "name": "stderr"
        },
        {
          "output_type": "stream",
          "text": "TRAIN\nf1_score:       0.9657224958949098 \nroc_auc_score:  0.9411764705882353 \n\n              precision    recall  f1-score   support\n\n       False       1.00      0.88      0.94        68\n        True       0.96      1.00      0.98       170\n\n   micro avg       0.97      0.97      0.97       238\n   macro avg       0.98      0.94      0.96       238\nweighted avg       0.97      0.97      0.97       238\n\nTEST\nf1_score:       0.9484233417905037 \nroc_auc_score:  0.9117647058823529 \n\n              precision    recall  f1-score   support\n\n       False       1.00      0.82      0.90        17\n        True       0.93      1.00      0.97        43\n\n   micro avg       0.95      0.95      0.95        60\n   macro avg       0.97      0.91      0.93        60\nweighted avg       0.95      0.95      0.95        60\n\nCPU times: user 213 ms, sys: 53.6 ms, total: 267 ms\nWall time: 3.18 s\n",
          "name": "stdout"
        }
      ]
    }
  ],
  "metadata": {
    "kernelspec": {
      "name": "python36",
      "display_name": "Python 3.6",
      "language": "python"
    },
    "language_info": {
      "mimetype": "text/x-python",
      "nbconvert_exporter": "python",
      "name": "python",
      "pygments_lexer": "ipython3",
      "version": "3.6.6",
      "file_extension": ".py",
      "codemirror_mode": {
        "version": 3,
        "name": "ipython"
      }
    }
  },
  "nbformat": 4,
  "nbformat_minor": 2
}